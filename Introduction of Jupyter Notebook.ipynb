{
 "cells": [
  {
   "cell_type": "markdown",
   "metadata": {},
   "source": [
    "## Optional Lab: Brief Introduction to Python and Jupyter Notebooks\n",
    "\n",
    "Welcome to the first optional lab! This labs are available to:\n",
    "\n",
    "- Provide in formation - like this notebook\n",
    "- Reinforce lecture material with hands-on examples\n",
    "- Provide working examples of routines used in the graded labs"
   ]
  },
  {
   "cell_type": "markdown",
   "metadata": {},
   "source": [
    "## Goals\n",
    "\n",
    "In this lab, you will:\n",
    "- Get Introduction to Jupyter\n",
    "- Take a tour of Jupyter\n",
    "- Learn the difference between markdown and code cells"
   ]
  },
  {
   "cell_type": "code",
   "execution_count": null,
   "metadata": {},
   "outputs": [],
   "source": []
  }
 ],
 "metadata": {
  "language_info": {
   "name": "python"
  }
 },
 "nbformat": 4,
 "nbformat_minor": 2
}
